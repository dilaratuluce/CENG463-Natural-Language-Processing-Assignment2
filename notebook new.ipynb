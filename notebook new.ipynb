{
 "cells": [
  {
   "cell_type": "code",
   "execution_count": 4,
   "metadata": {
    "ExecuteTime": {
     "end_time": "2025-01-05T11:21:16.985688Z",
     "start_time": "2025-01-05T11:21:10.179201Z"
    }
   },
   "outputs": [],
   "source": [
    "import pandas as pd\n",
    "from sklearn.model_selection import train_test_split\n",
    "import torch\n",
    "from torch.utils.data import Dataset\n",
    "from transformers import AutoModelForSequenceClassification\n",
    "from transformers import TrainingArguments\n",
    "from transformers import Trainer\n",
    "from sklearn.metrics import classification_report\n",
    "import numpy as np\n",
    "from transformers import AutoModelForCausalLM, AutoTokenizer, pipeline\n",
    "import accelerate"
   ]
  },
  {
   "cell_type": "code",
   "execution_count": 7,
   "metadata": {
    "ExecuteTime": {
     "start_time": "2024-12-28T17:23:54.261772Z"
    }
   },
   "outputs": [
    {
     "name": "stdout",
     "output_type": "stream",
     "text": [
      "Orientation:\n",
      "Training set size: 14524 , testing set size: 1614\n",
      "Power:\n",
      "Training set size: 15645 , testing set size: 1739\n"
     ]
    }
   ],
   "source": [
    "orientation_file_path = 'trainingset-ideology-power/orientation/orientation-tr-train.tsv'\n",
    "power_file_path = 'trainingset-ideology-power/power/power-tr-train.tsv'\n",
    "\n",
    "orientation_data = pd.read_csv(orientation_file_path, sep='\\t')\n",
    "power_data = pd.read_csv(power_file_path, sep='\\t')\n",
    "\n",
    "# Split the dataset as: 90% training, 10% testing\n",
    "orientation_train_data, orientation_test_data = train_test_split(orientation_data, test_size=0.1, stratify=orientation_data['label'], random_state=42)\n",
    "power_train_data, power_test_data = train_test_split(power_data, test_size=0.1, stratify=power_data['label'], random_state=42)\n",
    "\n",
    "orientation_train_data.to_csv('turkey_train.tsv', sep='\\t', index=False)\n",
    "orientation_test_data.to_csv('turkey_test.tsv', sep='\\t', index=False)\n",
    "power_train_data.to_csv('power_train.tsv', sep='\\t', index=False)\n",
    "power_test_data.to_csv('power_test.tsv', sep='\\t', index=False)\n",
    "\n"
   ]
  },
  {
   "cell_type": "code",
   "execution_count": 10,
   "metadata": {
    "ExecuteTime": {
     "end_time": "2024-12-28T17:23:56.912334500Z",
     "start_time": "2024-12-28T08:30:41.582126Z"
    }
   },
   "outputs": [
    {
     "name": "stdout",
     "output_type": "stream",
     "text": [
      "Orientation:\n",
      "Training set size: 14524 , rientation testing set size: 1614\n",
      "Power:\n",
      "Training set size: 15645 , testing set size: 1739\n",
      "\n",
      "Orientation training label distribution:\n",
      "label\n",
      "1    0.581865\n",
      "0    0.418135\n",
      "Name: proportion, dtype: float64\n",
      "\n",
      "Orientation testing label distribution:\n",
      "label\n",
      "1    0.581784\n",
      "0    0.418216\n",
      "Name: proportion, dtype: float64\n",
      "\n",
      "Power training label distribution:\n",
      "label\n",
      "1    0.513774\n",
      "0    0.486226\n",
      "Name: proportion, dtype: float64\n",
      "\n",
      "Power testing label distribution:\n",
      "label\n",
      "1    0.514089\n",
      "0    0.485911\n",
      "Name: proportion, dtype: float64\n"
     ]
    }
   ],
   "source": [
    "# Statistics About Dataset\n",
    "print(\"Orientation:\")\n",
    "print(\"Training set size:\", len(orientation_train_data), \", orientation testing set size:\", len(orientation_test_data))\n",
    "print(\"Power:\")\n",
    "print(\"Training set size:\", len(power_train_data), \", testing set size:\", len(power_test_data))\n",
    "\n",
    "print(\"\\nOrientation training label distribution:\")\n",
    "print(orientation_train_data['label'].value_counts(normalize=True))\n",
    "\n",
    "print(\"\\nOrientation testing label distribution:\")\n",
    "print(orientation_test_data['label'].value_counts(normalize=True))\n",
    "\n",
    "print(\"\\nPower training label distribution:\")\n",
    "print(power_train_data['label'].value_counts(normalize=True))\n",
    "\n",
    "print(\"\\nPower testing label distribution:\")\n",
    "print(power_test_data['label'].value_counts(normalize=True))"
   ]
  },
  {
   "cell_type": "code",
   "execution_count": 12,
   "metadata": {
    "ExecuteTime": {
     "end_time": "2024-12-28T17:23:56.931400100Z",
     "start_time": "2024-12-28T08:30:42.662051Z"
    }
   },
   "outputs": [
    {
     "name": "stdout",
     "output_type": "stream",
     "text": [
      "Tokenization complete\n"
     ]
    }
   ],
   "source": [
    "tokenizer = AutoTokenizer.from_pretrained(\"bert-base-multilingual-cased\")\n",
    "\n",
    "def tokenize_data(data, text_column):\n",
    "    return tokenizer(\n",
    "        data[text_column].tolist(),\n",
    "        padding=True, \n",
    "        truncation=True, \n",
    "        max_length=128, \n",
    "        return_tensors=\"pt\" \n",
    "    )\n",
    "\n",
    "orientation_train_encodings = tokenize_data(orientation_train_data, \"text\")\n",
    "orientation_test_encodings = tokenize_data(orientation_test_data, \"text\")\n",
    "\n",
    "power_train_encodings = tokenize_data(power_train_data, \"text_en\")\n",
    "power_test_encodings = tokenize_data(power_test_data, \"text_en\")\n",
    "\n",
    "print(\"Tokenization complete\")"
   ]
  },
  {
   "cell_type": "code",
   "execution_count": 13,
   "metadata": {
    "ExecuteTime": {
     "end_time": "2024-12-28T17:23:56.932590800Z",
     "start_time": "2024-12-28T08:31:10.621849Z"
    }
   },
   "outputs": [
    {
     "name": "stdout",
     "output_type": "stream",
     "text": [
      "Datasets are ready\n"
     ]
    }
   ],
   "source": [
    "orientation_train_labels = torch.tensor(orientation_train_data['label'].tolist())\n",
    "orientation_test_labels = torch.tensor(orientation_test_data['label'].tolist())\n",
    "\n",
    "power_train_labels = torch.tensor(power_train_data['label'].tolist())\n",
    "power_test_labels = torch.tensor(power_test_data['label'].tolist())\n",
    "\n",
    "class ParliamentaryDataset(Dataset):\n",
    "    def __init__(self, encodings, labels):\n",
    "        self.encodings = encodings\n",
    "        self.labels = labels\n",
    "\n",
    "    def __len__(self):\n",
    "        return len(self.labels)\n",
    "\n",
    "    def __getitem__(self, idx):\n",
    "        item = {key: val[idx] for key, val in self.encodings.items()}\n",
    "        item['labels'] = self.labels[idx]\n",
    "        return item\n",
    "\n",
    "# Create datasets\n",
    "orientation_train_dataset = ParliamentaryDataset(orientation_train_encodings, orientation_train_labels)\n",
    "orientation_test_dataset = ParliamentaryDataset(orientation_test_encodings, orientation_test_labels)\n",
    "\n",
    "power_train_dataset = ParliamentaryDataset(power_train_encodings, power_train_labels)\n",
    "power_test_dataset = ParliamentaryDataset(power_test_encodings, power_test_labels)\n",
    "print(\"Datasets are ready\")"
   ]
  },
  {
   "cell_type": "code",
   "execution_count": 11,
   "metadata": {
    "ExecuteTime": {
     "end_time": "2024-12-28T17:23:56.948147Z",
     "start_time": "2024-12-28T08:31:11.756531Z"
    }
   },
   "outputs": [
    {
     "name": "stderr",
     "output_type": "stream",
     "text": [
      "Some weights of BertForSequenceClassification were not initialized from the model checkpoint at bert-base-multilingual-cased and are newly initialized: ['classifier.bias', 'classifier.weight']\n",
      "You should probably TRAIN this model on a down-stream task to be able to use it for predictions and inference.\n",
      "Some weights of BertForSequenceClassification were not initialized from the model checkpoint at bert-base-multilingual-cased and are newly initialized: ['classifier.bias', 'classifier.weight']\n",
      "You should probably TRAIN this model on a down-stream task to be able to use it for predictions and inference.\n"
     ]
    },
    {
     "name": "stdout",
     "output_type": "stream",
     "text": [
      "Model loaded!\n"
     ]
    }
   ],
   "source": [
    "orientation_model = AutoModelForSequenceClassification.from_pretrained(\n",
    "    \"bert-base-multilingual-cased\",\n",
    "    num_labels=2  # Binary classification (left vs right)\n",
    ")\n",
    "\n",
    "power_model = AutoModelForSequenceClassification.from_pretrained(\n",
    "    \"bert-base-multilingual-cased\",\n",
    "    num_labels=2\n",
    ")\n",
    "\n",
    "print(\"Model loaded!\")"
   ]
  },
  {
   "cell_type": "code",
   "execution_count": 14,
   "metadata": {
    "ExecuteTime": {
     "end_time": "2024-12-28T17:23:56.949661100Z",
     "start_time": "2024-12-28T08:31:14.086980Z"
    }
   },
   "outputs": [
    {
     "name": "stdout",
     "output_type": "stream",
     "text": [
      "Training arguments defined\n"
     ]
    }
   ],
   "source": [
    "training_args = TrainingArguments(\n",
    "    output_dir=\"./results\", \n",
    "    eval_strategy=\"epoch\", \n",
    "    save_strategy=\"epoch\", \n",
    "    learning_rate=5e-5, \n",
    "    per_device_train_batch_size=16, \n",
    "    per_device_eval_batch_size=16, \n",
    "    num_train_epochs=3, \n",
    "    weight_decay=0.01, \n",
    "    logging_dir=\"./logs\", \n",
    "    logging_steps=10, \n",
    "    save_total_limit=2, \n",
    "    load_best_model_at_end=True, \n",
    "    fp16=True, \n",
    "    gradient_accumulation_steps=4\n",
    ")\n",
    "print(\"Training arguments defined\")"
   ]
  },
  {
   "cell_type": "code",
   "execution_count": 14,
   "metadata": {
    "ExecuteTime": {
     "end_time": "2024-12-28T17:23:56.955722900Z",
     "start_time": "2024-12-28T08:31:34.264337Z"
    }
   },
   "outputs": [
    {
     "name": "stdout",
     "output_type": "stream",
     "text": [
      "Starting training...\n"
     ]
    },
    {
     "data": {
      "text/html": [
       "\n",
       "    <div>\n",
       "      \n",
       "      <progress value='681' max='681' style='width:300px; height:20px; vertical-align: middle;'></progress>\n",
       "      [681/681 02:57, Epoch 3/3]\n",
       "    </div>\n",
       "    <table border=\"1\" class=\"dataframe\">\n",
       "  <thead>\n",
       " <tr style=\"text-align: left;\">\n",
       "      <th>Epoch</th>\n",
       "      <th>Training Loss</th>\n",
       "      <th>Validation Loss</th>\n",
       "    </tr>\n",
       "  </thead>\n",
       "  <tbody>\n",
       "    <tr>\n",
       "      <td>1</td>\n",
       "      <td>2.274000</td>\n",
       "      <td>0.494472</td>\n",
       "    </tr>\n",
       "    <tr>\n",
       "      <td>2</td>\n",
       "      <td>1.701700</td>\n",
       "      <td>0.461051</td>\n",
       "    </tr>\n",
       "    <tr>\n",
       "      <td>3</td>\n",
       "      <td>1.210900</td>\n",
       "      <td>0.510811</td>\n",
       "    </tr>\n",
       "  </tbody>\n",
       "</table><p>"
      ],
      "text/plain": [
       "<IPython.core.display.HTML object>"
      ]
     },
     "metadata": {},
     "output_type": "display_data"
    },
    {
     "data": {
      "text/html": [
       "\n",
       "    <div>\n",
       "      \n",
       "      <progress value='732' max='732' style='width:300px; height:20px; vertical-align: middle;'></progress>\n",
       "      [732/732 03:15, Epoch 2/3]\n",
       "    </div>\n",
       "    <table border=\"1\" class=\"dataframe\">\n",
       "  <thead>\n",
       " <tr style=\"text-align: left;\">\n",
       "      <th>Epoch</th>\n",
       "      <th>Training Loss</th>\n",
       "      <th>Validation Loss</th>\n",
       "    </tr>\n",
       "  </thead>\n",
       "  <tbody>\n",
       "    <tr>\n",
       "      <td>0</td>\n",
       "      <td>1.895700</td>\n",
       "      <td>0.427344</td>\n",
       "    </tr>\n",
       "    <tr>\n",
       "      <td>1</td>\n",
       "      <td>1.451400</td>\n",
       "      <td>0.447493</td>\n",
       "    </tr>\n",
       "    <tr>\n",
       "      <td>2</td>\n",
       "      <td>0.867000</td>\n",
       "      <td>0.500938</td>\n",
       "    </tr>\n",
       "  </tbody>\n",
       "</table><p>"
      ],
      "text/plain": [
       "<IPython.core.display.HTML object>"
      ]
     },
     "metadata": {},
     "output_type": "display_data"
    },
    {
     "name": "stdout",
     "output_type": "stream",
     "text": [
      "Training complete!\n"
     ]
    }
   ],
   "source": [
    "orientation_trainer = Trainer(\n",
    "    model=orientation_model,\n",
    "    args=training_args,\n",
    "    train_dataset=orientation_train_dataset,\n",
    "    eval_dataset=orientation_test_dataset,\n",
    "    processing_class=tokenizer \n",
    ")\n",
    "\n",
    "power_trainer = Trainer(\n",
    "    model=power_model,\n",
    "    args=training_args,\n",
    "    train_dataset=power_train_dataset,\n",
    "    eval_dataset=power_test_dataset,\n",
    "    processing_class=tokenizer\n",
    ")\n",
    "\n",
    "print(\"Starting training...\")\n",
    "orientation_trainer.train()\n",
    "power_trainer.train()\n",
    "print(\"Training complete!\")"
   ]
  },
  {
   "cell_type": "code",
   "execution_count": 15,
   "metadata": {
    "ExecuteTime": {
     "end_time": "2024-12-28T17:23:56.958519600Z",
     "start_time": "2024-12-28T08:38:33.564881Z"
    }
   },
   "outputs": [
    {
     "data": {
      "text/html": [
       "\n",
       "    <div>\n",
       "      \n",
       "      <progress value='101' max='101' style='width:300px; height:20px; vertical-align: middle;'></progress>\n",
       "      [101/101 00:01]\n",
       "    </div>\n",
       "    "
      ],
      "text/plain": [
       "<IPython.core.display.HTML object>"
      ]
     },
     "metadata": {},
     "output_type": "display_data"
    },
    {
     "name": "stdout",
     "output_type": "stream",
     "text": [
      "Orientation evaluation results: {'eval_loss': 0.4610511064529419, 'eval_runtime': 1.6013, 'eval_samples_per_second': 1007.921, 'eval_steps_per_second': 63.073, 'epoch': 3.0}\n"
     ]
    },
    {
     "data": {
      "text/html": [],
      "text/plain": [
       "<IPython.core.display.HTML object>"
      ]
     },
     "metadata": {},
     "output_type": "display_data"
    },
    {
     "name": "stdout",
     "output_type": "stream",
     "text": [
      "Power evaluation results: {'eval_loss': 0.42734360694885254, 'eval_runtime': 1.4806, 'eval_samples_per_second': 1174.512, 'eval_steps_per_second': 73.618, 'epoch': 2.997955010224949}\n"
     ]
    }
   ],
   "source": [
    "# Evaluate the model\n",
    "results = orientation_trainer.evaluate()\n",
    "print(\"Orientation evaluation results:\", results)\n",
    "results = power_trainer.evaluate()\n",
    "print(\"Power evaluation results:\", results)"
   ]
  },
  {
   "cell_type": "code",
   "execution_count": 16,
   "metadata": {
    "ExecuteTime": {
     "end_time": "2024-12-28T17:23:56.961043200Z",
     "start_time": "2024-12-28T08:38:39.521428Z"
    }
   },
   "outputs": [
    {
     "name": "stdout",
     "output_type": "stream",
     "text": [
      "Orientation Classification Report:\n",
      "              precision    recall  f1-score   support\n",
      "\n",
      "        Left       0.73      0.79      0.76       675\n",
      "       Right       0.84      0.79      0.81       939\n",
      "\n",
      "    accuracy                           0.79      1614\n",
      "   macro avg       0.78      0.79      0.78      1614\n",
      "weighted avg       0.79      0.79      0.79      1614\n",
      "\n",
      "Power Classification Report:\n",
      "              precision    recall  f1-score   support\n",
      "\n",
      "   Governing       0.76      0.84      0.80       845\n",
      "  Opposition       0.84      0.75      0.79       894\n",
      "\n",
      "    accuracy                           0.79      1739\n",
      "   macro avg       0.80      0.80      0.79      1739\n",
      "weighted avg       0.80      0.79      0.79      1739\n",
      "\n",
      "Models and tokenizer saved!\n"
     ]
    }
   ],
   "source": [
    "# Get model predictions on the test set\n",
    "orientation_predictions = orientation_trainer.predict(orientation_test_dataset)\n",
    "power_predictions = power_trainer.predict(power_test_dataset)\n",
    "\n",
    "# Extract predicted labels\n",
    "orientation_preds = np.argmax(orientation_predictions.predictions, axis=1)\n",
    "power_preds = np.argmax(power_predictions.predictions, axis=1)\n",
    "\n",
    "print(\"Orientation Classification Report:\")\n",
    "print(classification_report(orientation_test_labels, orientation_preds, target_names=[\"Left\", \"Right\"]))\n",
    "print(\"Power Classification Report:\")\n",
    "print(classification_report(power_test_labels, power_preds, target_names=[\"Governing\", \"Opposition\"]))\n",
    "\n",
    "orientation_model.save_pretrained(\"./fine_tuned_model\")\n",
    "power_model.save_pretrained(\"./fine_tuned_model\")\n",
    "tokenizer.save_pretrained(\"./fine_tuned_model\")\n",
    "print(\"Models and tokenizer saved!\")"
   ]
  },
  {
   "cell_type": "code",
   "execution_count": 3,
   "metadata": {
    "ExecuteTime": {
     "end_time": "2025-01-05T11:23:05.215061Z",
     "start_time": "2025-01-05T11:23:01.207850Z"
    }
   },
   "outputs": [
    {
     "name": "stderr",
     "output_type": "stream",
     "text": [
      "Device set to use cuda:0\n"
     ]
    }
   ],
   "source": [
    "model = AutoModelForCausalLM.from_pretrained(\"meta-llama/Llama-3.2-1B-Instruct\")\n",
    "tokenizer = AutoTokenizer.from_pretrained(\"meta-llama/Llama-3.2-1B-Instruct\")\n",
    "tokenizer.pad_token_id = tokenizer.eos_token_id\n",
    "tokenizer.padding_side = \"left\"\n",
    "causal_pipeline = pipeline(\n",
    "    task=\"text-generation\",\n",
    "    model=model,\n",
    "    tokenizer=tokenizer,\n",
    "    torch_dtype = torch.float16,\n",
    "    device=0\n",
    "    #device_map=\"auto\"\n",
    ")"
   ]
  },
  {
   "cell_type": "code",
   "execution_count": 4,
   "metadata": {
    "ExecuteTime": {
     "end_time": "2025-01-05T11:23:12.615566Z",
     "start_time": "2025-01-05T11:23:07.592969Z"
    }
   },
   "outputs": [
    {
     "name": "stdout",
     "output_type": "stream",
     "text": [
      "Orientation set size: 16138 Power set size: 17384\n"
     ]
    }
   ],
   "source": [
    "orientation_file_path = 'trainingset-ideology-power/orientation/orientation-tr-train.tsv'\n",
    "power_file_path = 'trainingset-ideology-power/power/power-tr-train.tsv'\n",
    "\n",
    "orientation_data = pd.read_csv(orientation_file_path, sep='\\t')\n",
    "power_data = pd.read_csv(power_file_path, sep='\\t')\n",
    "\n",
    "orientation_data.to_csv('orientation.tsv', sep='\\t', index=False)\n",
    "power_data.to_csv('power.tsv', sep='\\t', index=False)\n",
    "print(\"Orientation set size:\", len(orientation_data), \"Power set size:\", len(power_data))\n",
    "\n",
    "orientation_tr_data = orientation_data['text']\n",
    "orientation_en_data = orientation_data['text_en']\n",
    "power_tr_data = power_data['text']\n",
    "power_en_data = power_data['text_en']\n",
    "\n",
    "orientation_labels = torch.tensor(orientation_data['label'].tolist())\n",
    "power_labels = torch.tensor(power_data['label'].tolist())\n",
    "\n",
    "def classify_text_orientation(text):\n",
    "    prompt = (\n",
    "        f\"The following is a parliamentary speech: '{text}'\\n\"\n",
    "        \"Classify the speech as Political Left (0) or Political Right (1). Answer with 0 for Political Left or 1 for Political Right: \"\n",
    "    )\n",
    "    result = causal_pipeline(prompt, max_new_tokens=1)\n",
    "    return result[0]['generated_text'][-1]\n",
    "\n",
    "def classify_data_orientation(data):\n",
    "    preds = [classify_text_orientation(row) for row in data]\n",
    "    return preds\n",
    "\n",
    "def classify_text_power(text):\n",
    "    prompt = (\n",
    "        f\"The following is a parliamentary speech: '{text}'\\n\"\n",
    "        \"Classify the speech as Governing Party (0) or Opposing Party (1). Answer with 0 for Governing Party or 1 for Opposing Party: \"\n",
    "    )\n",
    "    result = causal_pipeline(prompt, max_new_tokens=1)\n",
    "    return result[0]['generated_text'][-1]\n",
    "\n",
    "def classify_data_power(data):\n",
    "    preds = [classify_text_power(row) for row in data]\n",
    "    return preds\n"
   ]
  },
  {
   "cell_type": "code",
   "execution_count": 7,
   "metadata": {
    "ExecuteTime": {
     "end_time": "2025-01-05T11:38:21.304314Z",
     "start_time": "2025-01-05T11:24:30.738898Z"
    }
   },
   "outputs": [
    {
     "name": "stdout",
     "output_type": "stream",
     "text": [
      "TR Orientation Classification Report:\n",
      "              precision    recall  f1-score   support\n",
      "\n",
      "        Left       0.39      0.82      0.53      1562\n",
      "       Right       0.61      0.18      0.27      2438\n",
      "\n",
      "    accuracy                           0.43      4000\n",
      "   macro avg       0.50      0.50      0.40      4000\n",
      "weighted avg       0.52      0.43      0.37      4000\n",
      "\n"
     ]
    }
   ],
   "source": [
    "orientation_tr_preds = classify_data_orientation(orientation_tr_data[:4000])\n",
    "orientation_tr_preds = [int(pred) for pred in orientation_tr_preds]\n",
    "print(\"TR Orientation Classification Report:\")\n",
    "print(classification_report(orientation_labels[:4000], orientation_tr_preds, \n",
    "                            target_names=[\"Left\", \"Right\"]))"
   ]
  },
  {
   "cell_type": "code",
   "execution_count": 8,
   "metadata": {
    "ExecuteTime": {
     "end_time": "2025-01-05T11:49:15.672680Z",
     "start_time": "2025-01-05T11:38:21.411998Z"
    }
   },
   "outputs": [
    {
     "name": "stdout",
     "output_type": "stream",
     "text": [
      "EN Orientation Classification Report:\n",
      "              precision    recall  f1-score   support\n",
      "\n",
      "        Left       0.39      0.98      0.56      1562\n",
      "       Right       0.50      0.01      0.02      2438\n",
      "\n",
      "    accuracy                           0.39      4000\n",
      "   macro avg       0.44      0.50      0.29      4000\n",
      "weighted avg       0.46      0.39      0.23      4000\n",
      "\n"
     ]
    }
   ],
   "source": [
    "orientation_en_preds = classify_data_orientation(orientation_en_data[:4000])\n",
    "orientation_en_preds = [int(pred) for pred in orientation_en_preds]\n",
    "print(\"EN Orientation Classification Report:\")\n",
    "print(classification_report(orientation_labels[:4000], orientation_en_preds, \n",
    "                            target_names=[\"Left\", \"Right\"]))"
   ]
  },
  {
   "cell_type": "code",
   "execution_count": 9,
   "metadata": {
    "ExecuteTime": {
     "end_time": "2025-01-05T12:03:27.995328Z",
     "start_time": "2025-01-05T11:49:15.711419Z"
    }
   },
   "outputs": [
    {
     "name": "stdout",
     "output_type": "stream",
     "text": [
      "TR Power Classification Report:\n",
      "              precision    recall  f1-score   support\n",
      "\n",
      "   Governing       0.49      0.84      0.62      1961\n",
      "  Opposition       0.53      0.17      0.25      2039\n",
      "\n",
      "    accuracy                           0.50      4000\n",
      "   macro avg       0.51      0.51      0.44      4000\n",
      "weighted avg       0.51      0.50      0.43      4000\n",
      "\n"
     ]
    }
   ],
   "source": [
    "power_tr_preds = classify_data_power(power_tr_data[:4000])\n",
    "power_tr_preds = [int(pred) for pred in power_tr_preds]\n",
    "print(\"TR Power Classification Report:\")\n",
    "print(classification_report(power_labels[:4000], power_tr_preds, \n",
    "                            target_names=[\"Governing\", \"Opposition\"]))"
   ]
  },
  {
   "cell_type": "code",
   "execution_count": 10,
   "metadata": {
    "ExecuteTime": {
     "end_time": "2025-01-05T12:14:36.552906Z",
     "start_time": "2025-01-05T12:03:28.037316Z"
    }
   },
   "outputs": [
    {
     "name": "stdout",
     "output_type": "stream",
     "text": [
      "EN Power Classification Report:\n",
      "              precision    recall  f1-score   support\n",
      "\n",
      "   Governing       0.48      0.85      0.61      1961\n",
      "  Opposition       0.45      0.12      0.19      2039\n",
      "\n",
      "    accuracy                           0.48      4000\n",
      "   macro avg       0.47      0.48      0.40      4000\n",
      "weighted avg       0.47      0.48      0.40      4000\n",
      "\n"
     ]
    }
   ],
   "source": [
    "power_en_preds = classify_data_power(power_en_data[:4000])\n",
    "power_en_preds = [int(pred) for pred in power_en_preds]\n",
    "print(\"EN Power Classification Report:\")\n",
    "print(classification_report(power_labels[:4000], power_en_preds, \n",
    "                            target_names=[\"Governing\", \"Opposition\"]))"
   ]
  }
 ],
 "metadata": {
  "kernelspec": {
   "display_name": "Python 3",
   "language": "python",
   "name": "python3"
  },
  "language_info": {
   "codemirror_mode": {
    "name": "ipython",
    "version": 3
   },
   "file_extension": ".py",
   "mimetype": "text/x-python",
   "name": "python",
   "nbconvert_exporter": "python",
   "pygments_lexer": "ipython3",
   "version": "3.11.6"
  }
 },
 "nbformat": 4,
 "nbformat_minor": 2
}
